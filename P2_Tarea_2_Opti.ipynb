{
  "nbformat": 4,
  "nbformat_minor": 0,
  "metadata": {
    "colab": {
      "provenance": [],
      "authorship_tag": "ABX9TyONvwxkWKz2HmFBg6qWtIbE",
      "include_colab_link": true
    },
    "kernelspec": {
      "name": "python3",
      "display_name": "Python 3"
    },
    "language_info": {
      "name": "python"
    }
  },
  "cells": [
    {
      "cell_type": "markdown",
      "metadata": {
        "id": "view-in-github",
        "colab_type": "text"
      },
      "source": [
        "<a href=\"https://colab.research.google.com/github/JoseAguirre-10/LogosFCFM/blob/master/P2_Tarea_2_Opti.ipynb\" target=\"_parent\"><img src=\"https://colab.research.google.com/assets/colab-badge.svg\" alt=\"Open In Colab\"/></a>"
      ]
    },
    {
      "cell_type": "code",
      "execution_count": 1,
      "metadata": {
        "id": "OXGhYSjOW8r6",
        "colab": {
          "base_uri": "https://localhost:8080/"
        },
        "outputId": "b28b9a00-bb38-40a3-f9f0-2592d08313e0"
      },
      "outputs": [
        {
          "output_type": "stream",
          "name": "stdout",
          "text": [
            "Collecting gurobipy\n",
            "  Downloading gurobipy-12.0.2-cp311-cp311-manylinux2014_x86_64.manylinux_2_17_x86_64.whl.metadata (16 kB)\n",
            "Downloading gurobipy-12.0.2-cp311-cp311-manylinux2014_x86_64.manylinux_2_17_x86_64.whl (14.5 MB)\n",
            "\u001b[2K   \u001b[90m━━━━━━━━━━━━━━━━━━━━━━━━━━━━━━━━━━━━━━━━\u001b[0m \u001b[32m14.5/14.5 MB\u001b[0m \u001b[31m28.0 MB/s\u001b[0m eta \u001b[36m0:00:00\u001b[0m\n",
            "\u001b[?25hInstalling collected packages: gurobipy\n",
            "Successfully installed gurobipy-12.0.2\n"
          ]
        }
      ],
      "source": [
        "!pip install gurobipy"
      ]
    },
    {
      "cell_type": "code",
      "source": [
        "import numpy as np\n",
        "from gurobipy import*"
      ],
      "metadata": {
        "id": "4HmKBmz_N46t"
      },
      "execution_count": 17,
      "outputs": []
    },
    {
      "cell_type": "code",
      "source": [
        "#para esta pregunta se nos dan ciertos coeficientes a los cuales se les asignaran un valor\n",
        "#Primero voy a plantear nuevamente el problema de optimización\n",
        "\n",
        "#Definimos los datos que nos entrega el problema.\n",
        "betha = [0,100,120,130,140,150,200,0] #Esto representa el costo de almacenaje\n",
        "\n",
        "\n",
        "\n",
        "c = np.array([[0,10,25,30,0,0,20,0],[0,0,0,0,15,15,0,0],[0,0,0,0,0,15,0,0],\n",
        " [0,0,0,0,0,0,10,0],[0,0,0,0,0,0,0,25],[0,0,0,0,0,0,0,80],[0,0,0,0,0,0,0,25],  #representa el costo de ir desdela bodega i-esima hasta la j-esima, cij = 0 representa que esa ruta no existe\n",
        "  [0,0,0,0,0,0,0,0]])\n",
        "\n",
        "r = np.array([[0,500,350,500,0,0,600,0],[0,0,0,0,250,350,0,0],[0,0,0,0,0,350,0,0],\n",
        " [0,0,0,0,0,0,500,0],[0,0,0,0,0,0,0,800],[0,0,0,0,0,0,0,500],[0,0,0,0,0,0,0,500], #Representa cuanto se piuede transportar en la ruta desde i hasta j. Rij = 0 significa que esa ruta no está definida\n",
        "  [0,0,0,0,0,0,0,0]])\n",
        "\n"
      ],
      "metadata": {
        "id": "cIGRnA4fZpnv"
      },
      "execution_count": 149,
      "outputs": []
    },
    {
      "cell_type": "code",
      "source": [
        "#planteamos el problema de optimización\n",
        "m = Model('Penalización')\n",
        "n = 8\n",
        "\n",
        "#definimos las variables, en este caso tenemos un problema de una sola variable, el cual no es lineal\n",
        "\n",
        "x = m.addVars(n,n,vtype=GRB.CONTINUOUS, name = 'Cantidad_de_elemntos_por_bodega')\n",
        "#restricciones:\n",
        "\n",
        "#Se define el punto de salida\n",
        "m.addConstr(x[0,0] == 1000, name = 'salida')\n",
        "#se deben bloquear las rutas no existentes\n",
        "for i in range(n):\n",
        "    for j in range(n):\n",
        "        if R[i, j] <= 0:  # Bloquear rutas no válidas\n",
        "            m.addConstr(x[i, j] == 0, name=f'Bloqueo_{i}_{j}')\n",
        "        else:\n",
        "            m.addConstr(x[i, j] <= R[i, j], name=f'Capacidad_{i}_{j}')\n",
        "\n",
        "#\n",
        "m.addConstrs((quicksum(x[i,j] for i in range(n)) == 1000 for j in range (n)), name = 'Suma columna i-esima en X')\n",
        "\n",
        "m.addConstrs(((x[i,j] -float(r[i,j])) <=0 for i in range (n) for j in range (n) if float(r[i,j])>0), name = 'Carga ruta ij')\n",
        "m.addConstrs((x[i,j] >= 0 for i in range(n) for j in range(n)), name = 'restriccion')\n",
        "m.setObjective(\n",
        "    quicksum(float(C[i, j]) * x[i, j] * x[i, j] for i in range(n) for j in range(n)) +\n",
        "    quicksum(float(betha[i]) * quicksum(x[i, j] for j in range(n)) for i in range(n)),\n",
        "    GRB.MINIMIZE)\n",
        "\n",
        "\n",
        "m.Params.NonConvex = 2\n",
        "\n",
        "m.optimize()\n",
        "\n",
        "print(f\"Status: {m.Status}\")\n",
        "if m.Status == GRB.OPTIMAL:\n",
        "    for i in range(n):\n",
        "        for j in range(n):\n",
        "            val = x[i, j].X\n",
        "            if val > 1e-6:\n",
        "                print(f\"x[{i},{j}] = {val:.2f}\")\n",
        "else:\n",
        "    print(\"No se encontró solución óptima.\")"
      ],
      "metadata": {
        "colab": {
          "base_uri": "https://localhost:8080/"
        },
        "collapsed": true,
        "id": "9hzB6vXVTIXk",
        "outputId": "d1ca46f9-bb6e-4fd7-a55e-509a2b661a25"
      },
      "execution_count": 159,
      "outputs": [
        {
          "output_type": "stream",
          "name": "stdout",
          "text": [
            "Set parameter NonConvex to value 2\n",
            "Gurobi Optimizer version 12.0.2 build v12.0.2rc0 (linux64 - \"Ubuntu 22.04.4 LTS\")\n",
            "\n",
            "CPU model: Intel(R) Xeon(R) CPU @ 2.20GHz, instruction set [SSE2|AVX|AVX2]\n",
            "Thread count: 1 physical cores, 2 logical processors, using up to 2 threads\n",
            "\n",
            "Non-default parameters:\n",
            "NonConvex  2\n",
            "\n",
            "Optimize a model with 137 rows, 64 columns and 193 nonzeros\n",
            "Model fingerprint: 0xf3388ae1\n",
            "Model has 11 quadratic objective terms\n",
            "Coefficient statistics:\n",
            "  Matrix range     [1e+00, 1e+00]\n",
            "  Objective range  [1e+02, 2e+02]\n",
            "  QObjective range [2e+01, 2e+02]\n",
            "  Bounds range     [0e+00, 0e+00]\n",
            "  RHS range        [2e+02, 1e+03]\n",
            "Presolve removed 127 rows and 1 columns\n",
            "Presolve time: 0.01s\n",
            "\n",
            "Barrier solved model in 0 iterations and 0.01 seconds (0.00 work units)\n",
            "Model is infeasible or unbounded\n",
            "Status: 4\n",
            "No se encontró solución óptima.\n"
          ]
        }
      ]
    },
    {
      "cell_type": "code",
      "source": [],
      "metadata": {
        "id": "0kOzXYxtXa3q"
      },
      "execution_count": null,
      "outputs": []
    }
  ]
}